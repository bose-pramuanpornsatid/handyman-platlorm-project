{
 "cells": [
  {
   "cell_type": "code",
   "execution_count": 3,
   "id": "96ebfe58-afea-4340-a19a-46a34450e334",
   "metadata": {},
   "outputs": [
    {
     "name": "stderr",
     "output_type": "stream",
     "text": [
      "/Users/bose/opt/anaconda3/envs/MATH257/lib/python3.10/site-packages/tqdm/auto.py:21: TqdmWarning: IProgress not found. Please update jupyter and ipywidgets. See https://ipywidgets.readthedocs.io/en/stable/user_install.html\n",
      "  from .autonotebook import tqdm as notebook_tqdm\n"
     ]
    },
    {
     "name": "stdout",
     "output_type": "stream",
     "text": [
      "Path to dataset files: /Users/bose/.cache/kagglehub/datasets/arshkon/linkedin-job-postings/versions/13\n"
     ]
    }
   ],
   "source": [
    "import kagglehub\n",
    "\n",
    "# Download latest version\n",
    "path = kagglehub.dataset_download(\"arshkon/linkedin-job-postings\")\n",
    "\n",
    "print(\"Path to dataset files:\", path)"
   ]
  },
  {
   "cell_type": "code",
   "execution_count": 2,
   "id": "20d4f459-1be1-49da-9414-7eae6ba599a8",
   "metadata": {},
   "outputs": [],
   "source": [
    "import pandas as pd\n",
    "\n",
    "df = pd.read_csv(path + \"/postings.csv\")"
   ]
  },
  {
   "cell_type": "code",
   "execution_count": 3,
   "id": "a9f43164-d40a-452b-8f1b-97747ff0d866",
   "metadata": {},
   "outputs": [
    {
     "name": "stdout",
     "output_type": "stream",
     "text": [
      "Index(['job_id', 'company_name', 'title', 'description', 'max_salary',\n",
      "       'pay_period', 'location', 'company_id', 'views', 'med_salary',\n",
      "       'min_salary', 'formatted_work_type', 'applies', 'original_listed_time',\n",
      "       'remote_allowed', 'job_posting_url', 'application_url',\n",
      "       'application_type', 'expiry', 'closed_time',\n",
      "       'formatted_experience_level', 'skills_desc', 'listed_time',\n",
      "       'posting_domain', 'sponsored', 'work_type', 'currency',\n",
      "       'compensation_type', 'normalized_salary', 'zip_code', 'fips'],\n",
      "      dtype='object')\n"
     ]
    }
   ],
   "source": [
    "print(df.columns)\n",
    "\n",
    "num_rows = posting.shape[0]\n",
    "print(\"Number of rows in posting:\", num_rows)"
   ]
  },
  {
   "cell_type": "code",
   "execution_count": 4,
   "id": "43dbd717-90b7-4c9f-88bd-fbd33be4cfe9",
   "metadata": {},
   "outputs": [
    {
     "name": "stdout",
     "output_type": "stream",
     "text": [
      "   posting_id                                           job_name  \\\n",
      "0      921716                              Marketing Coordinator   \n",
      "1     1829192                  Mental Health Therapist/Counselor   \n",
      "2    10998357                        Assitant Restaurant Manager   \n",
      "3    23221523  Senior Elder Law / Trusts and Estates Associat...   \n",
      "4    35982263                                 Service Technician   \n",
      "\n",
      "                                     job_description  med_salary  sponsor  \\\n",
      "0  Job descriptionA leading real estate firm in N...     38480.0        0   \n",
      "1  At Aspen Therapy and Wellness , we are committ...     83200.0        0   \n",
      "2  The National Exemplar is accepting application...     55000.0        0   \n",
      "3  Senior Associate Attorney - Elder Law / Trusts...    157500.0        0   \n",
      "4  Looking for HVAC service tech with experience ...     70000.0        0   \n",
      "\n",
      "   remote_allowed           location           post_date ng_or_internship  \\\n",
      "0             NaN      Princeton, NJ 2024-04-17 23:45:08              NaN   \n",
      "1             NaN   Fort Collins, CO 2024-04-11 17:51:27              NaN   \n",
      "2             NaN     Cincinnati, OH 2024-04-16 14:26:54              NaN   \n",
      "3             NaN  New Hyde Park, NY 2024-04-12 04:23:32              NaN   \n",
      "4             NaN     Burlington, IA 2024-04-18 14:52:23              NaN   \n",
      "\n",
      "   company_id  \n",
      "0   2774458.0  \n",
      "1         NaN  \n",
      "2  64896719.0  \n",
      "3    766262.0  \n",
      "4         NaN  \n"
     ]
    }
   ],
   "source": [
    "posting = df[['job_id', 'title', 'description', 'normalized_salary', 'sponsored', 'remote_allowed', 'location', 'original_listed_time', 'formatted_experience_level', 'company_id']].copy()\n",
    "\n",
    "# Rename columns to match the new schema\n",
    "posting.columns = ['posting_id', 'job_name', 'job_description', 'med_salary', 'sponsor', 'remote_allowed', 'location', 'post_date', 'ng_or_internship', 'company_id']\n",
    "\n",
    "# Convert post_date to datetime\n",
    "posting['post_date'] = pd.to_datetime(posting['post_date'], unit='ms')\n",
    "\n",
    "print(posting.head())"
   ]
  },
  {
   "cell_type": "code",
   "execution_count": 11,
   "id": "e5ac9128",
   "metadata": {},
   "outputs": [],
   "source": [
    "posting.to_csv('posting_output.csv', index=False, encoding='utf-8')"
   ]
  },
  {
   "cell_type": "code",
   "execution_count": null,
   "id": "427c5cdc",
   "metadata": {},
   "outputs": [],
   "source": []
  },
  {
   "cell_type": "code",
   "execution_count": 4,
   "id": "2c9a022a",
   "metadata": {},
   "outputs": [],
   "source": [
    "import pandas as pd\n",
    "\n",
    "# Load the CSV\n",
    "df = pd.read_csv(path + \"/postings.csv\", encoding='utf-8', on_bad_lines='skip') \n",
    "\n",
    "# Remove non-ASCII characters from all object (text) columns\n",
    "for column in df.select_dtypes(include=['object']).columns:\n",
    "    df[column] = df[column].str.encode('ascii', 'ignore').str.decode('ascii')\n",
    "    df[column] = df[column].str.replace('\\n', ' ').str.replace('\\r', ' ')\n",
    "\n",
    "# Continue with processing and saving\n",
    "posting = df[['job_id', 'title', 'description', 'normalized_salary', 'sponsored', 'remote_allowed', 'location', 'original_listed_time', 'formatted_experience_level', 'company_id']].copy()\n",
    "posting.columns = ['posting_id', 'job_name', 'job_description', 'med_salary', 'sponsor', 'remote_allowed', 'location', 'post_date', 'ng_or_internship', 'company_id']\n",
    "\n",
    "# Convert post_date to datetime\n",
    "posting['post_date'] = pd.to_datetime(posting['post_date'], unit='ms', errors='coerce')\n",
    "\n",
    "# Save as a cleaned UTF-8 CSV\n",
    "# posting.to_csv('posting_output.csv', index=False, encoding='utf-8')\n"
   ]
  },
  {
   "cell_type": "code",
   "execution_count": 11,
   "id": "f48e03e7",
   "metadata": {},
   "outputs": [],
   "source": [
    "posting.to_csv('posting.csv', index=False, encoding='utf-8', sep=';', na_rep='NULL')"
   ]
  },
  {
   "cell_type": "code",
   "execution_count": null,
   "id": "cfaf7997",
   "metadata": {},
   "outputs": [],
   "source": []
  }
 ],
 "metadata": {
  "kernelspec": {
   "display_name": "MATH257",
   "language": "python",
   "name": "python3"
  },
  "language_info": {
   "codemirror_mode": {
    "name": "ipython",
    "version": 3
   },
   "file_extension": ".py",
   "mimetype": "text/x-python",
   "name": "python",
   "nbconvert_exporter": "python",
   "pygments_lexer": "ipython3",
   "version": "3.10.9"
  }
 },
 "nbformat": 4,
 "nbformat_minor": 5
}
